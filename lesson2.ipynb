{
 "cells": [
  {
   "cell_type": "code",
   "execution_count": 2,
   "metadata": {},
   "outputs": [
    {
     "name": "stdout",
     "output_type": "stream",
     "text": [
      "2022\n",
      "11\n",
      "2\n",
      "13\n",
      "55\n",
      "47\n",
      "民國111年 11月 2日 - 13:55:47\n"
     ]
    }
   ],
   "source": [
    "from datetime import datetime\n",
    "\n",
    "current = datetime.now()\n",
    "current\n",
    "\n",
    "print(current.year)\n",
    "print(current.month)\n",
    "print(current.day)\n",
    "print(current.hour)\n",
    "print(current.minute)\n",
    "print(current.second)\n",
    "\n",
    "print(f'民國{current.year-1911}年 {current.month}月 {current.day}日 - {current.hour}:{current.minute}:{current.second}')\n",
    "#必轉字串才能印出"
   ]
  },
  {
   "cell_type": "code",
   "execution_count": 4,
   "metadata": {},
   "outputs": [
    {
     "data": {
      "text/plain": [
       "'2022-11-02 13-55-47'"
      ]
     },
     "execution_count": 4,
     "metadata": {},
     "output_type": "execute_result"
    }
   ],
   "source": [
    "#實體方法 strftime() 轉換為字串  ISO8601格式\n",
    "#https://docs.python.org/zh-tw/3/library/datetime.html#strftime-and-strptime-format-codes\n",
    "current.strftime(\"%Y-%m-%d %H-%M-%S\")\n"
   ]
  },
  {
   "cell_type": "code",
   "execution_count": 6,
   "metadata": {},
   "outputs": [
    {
     "name": "stdout",
     "output_type": "stream",
     "text": [
      "2020\n",
      "11\n",
      "3\n",
      "14\n",
      "3\n",
      "49\n"
     ]
    }
   ],
   "source": [
    "#字串為轉換datetime\n",
    "datetime_str = \"20201103-14:03:49\"\n",
    "datetime_obj = datetime.strptime(datetime_str,\"%Y%m%d-%H:%M:%S\")\n",
    "print(datetime_obj.year)\n",
    "print(datetime_obj.month)\n",
    "print(datetime_obj.day)\n",
    "\n",
    "print(datetime_obj.hour)\n",
    "print(datetime_obj.minute)\n",
    "print(datetime_obj.second)\n",
    "\n"
   ]
  }
 ],
 "metadata": {
  "kernelspec": {
   "display_name": "Python 3.9.2 ('venv03')",
   "language": "python",
   "name": "python3"
  },
  "language_info": {
   "codemirror_mode": {
    "name": "ipython",
    "version": 3
   },
   "file_extension": ".py",
   "mimetype": "text/x-python",
   "name": "python",
   "nbconvert_exporter": "python",
   "pygments_lexer": "ipython3",
   "version": "3.9.2"
  },
  "orig_nbformat": 4,
  "vscode": {
   "interpreter": {
    "hash": "f0a22ababe98e7ab9c01d2922448052666697295ff074604cbdab1201993c8a2"
   }
  }
 },
 "nbformat": 4,
 "nbformat_minor": 2
}
